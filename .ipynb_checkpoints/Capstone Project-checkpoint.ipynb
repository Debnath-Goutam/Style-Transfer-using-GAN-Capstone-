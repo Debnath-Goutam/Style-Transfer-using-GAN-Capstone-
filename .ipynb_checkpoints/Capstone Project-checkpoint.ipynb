{
 "cells": [
  {
   "cell_type": "code",
   "execution_count": 1,
   "id": "1f582c40",
   "metadata": {},
   "outputs": [
    {
     "name": "stderr",
     "output_type": "stream",
     "text": [
      "2025-08-10 06:34:21.136493: I tensorflow/core/platform/cpu_feature_guard.cc:194] This TensorFlow binary is optimized with oneAPI Deep Neural Network Library (oneDNN) to use the following CPU instructions in performance-critical operations:  SSE3 SSE4.1 SSE4.2 AVX\n",
      "To enable them in other operations, rebuild TensorFlow with the appropriate compiler flags.\n",
      "2025-08-10 06:34:21.368723: I tensorflow/core/util/util.cc:169] oneDNN custom operations are on. You may see slightly different numerical results due to floating-point round-off errors from different computation orders. To turn them off, set the environment variable `TF_ENABLE_ONEDNN_OPTS=0`.\n"
     ]
    }
   ],
   "source": [
    "import tensorflow as tf\n",
    "import os\n",
    "import glob\n",
    "import random\n",
    "\n",
    "import numpy as np\n",
    "import matplotlib.pyplot as plt\n",
    "\n",
    "from sklearn.model_selection import train_test_split\n",
    "from tqdm import tqdm\n",
    "from tensorflow.keras.models import Model\n",
    "from tensorflow.keras.applications import VGG19\n",
    "from tensorflow.keras import layers"
   ]
  },
  {
   "cell_type": "code",
   "execution_count": 2,
   "id": "bcde090f",
   "metadata": {},
   "outputs": [],
   "source": [
    "IMG_HEIGHT, IMG_WEIGHT, IMG_CHANNELS = 256, 256, 1\n",
    "AUTOTUNE = tf.data.AUTOTUNE\n",
    "T1_DIR = 'TrainT1'\n",
    "T2_DIR = 'TrainT2'\n",
    "BATCH_SIZE = 1\n",
    "TEST_SPLIT = 0.1\n",
    "lambda_cycle = 10\n",
    "lambda_identity = 0.5\n",
    "lambda_perceptual = 0.01"
   ]
  },
  {
   "cell_type": "code",
   "execution_count": 3,
   "id": "8f029fc2",
   "metadata": {},
   "outputs": [],
   "source": [
    "t1_files = sorted([os.path.join(T1_DIR, f) for f in os.listdir(T1_DIR) if f.endswith('.png')])\n",
    "t2_files = sorted([os.path.join(T2_DIR, f) for f in os.listdir(T2_DIR) if f.endswith('.png')])"
   ]
  },
  {
   "cell_type": "code",
   "execution_count": 5,
   "id": "b8a30cee",
   "metadata": {},
   "outputs": [],
   "source": [
    "t1_train_files, t1_test_files = train_test_split(t1_files, test_size=TEST_SPLIT, random_state=100)\n",
    "t2_train_files, t2_test_files = train_test_split(t2_files, test_size=TEST_SPLIT, random_state=100)"
   ]
  },
  {
   "cell_type": "code",
   "execution_count": null,
   "id": "b7fa16f2",
   "metadata": {},
   "outputs": [],
   "source": []
  }
 ],
 "metadata": {
  "kernelspec": {
   "display_name": "Python 3 (ipykernel)",
   "language": "python",
   "name": "python3"
  },
  "language_info": {
   "codemirror_mode": {
    "name": "ipython",
    "version": 3
   },
   "file_extension": ".py",
   "mimetype": "text/x-python",
   "name": "python",
   "nbconvert_exporter": "python",
   "pygments_lexer": "ipython3",
   "version": "3.8.10"
  }
 },
 "nbformat": 4,
 "nbformat_minor": 5
}
